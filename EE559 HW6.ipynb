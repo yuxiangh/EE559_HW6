{
 "cells": [
  {
   "cell_type": "markdown",
   "metadata": {},
   "source": [
    "# 1. Multi-class and Multi-Label Classification Using Support Vector Machines"
   ]
  },
  {
   "cell_type": "markdown",
   "metadata": {},
   "source": [
    "# Name:Yuxiang Hou                                            "
   ]
  },
  {
   "cell_type": "markdown",
   "metadata": {},
   "source": [
    "# USCID:1126739072"
   ]
  },
  {
   "cell_type": "markdown",
   "metadata": {},
   "source": [
    "Each instance has three labels: Families, Genus, and Species. Each of the labels has multiple classes. We wish to solve a multi-class and multi-label problem. One of the most important approaches to multi-class classification is to train a classifier for each label. We first try this approach:"
   ]
  },
  {
   "cell_type": "markdown",
   "metadata": {},
   "source": [
    "i. Research exact match and hamming score/ loss methods for evaluating multi- label classification and use them in evaluating the classifiers in this problem."
   ]
  },
  {
   "cell_type": "markdown",
   "metadata": {},
   "source": [
    "1.The hamming scores means that the percent of misclassification. \n"
   ]
  },
  {
   "cell_type": "markdown",
   "metadata": {},
   "source": [
    "ii. Train a SVM for each of the labels, using Gaussian kernels and one versus all classifiers. Determine the weight of the SVM penalty and the width of the Gaussian Kernel using 10 fold cross validation.1 You are welcome to try to solve the problem with both normalized and raw attributes and report the results."
   ]
  },
  {
   "cell_type": "code",
   "execution_count": 1,
   "metadata": {
    "collapsed": true
   },
   "outputs": [],
   "source": [
    "import pandas as pd \n",
    "import numpy as np \n",
    "import matplotlib.pyplot as plt"
   ]
  },
  {
   "cell_type": "code",
   "execution_count": 2,
   "metadata": {
    "collapsed": true
   },
   "outputs": [],
   "source": [
    "data=pd.read_csv(\"Frogs_MFCCs.csv\")"
   ]
  },
  {
   "cell_type": "code",
   "execution_count": 3,
   "metadata": {
    "collapsed": true
   },
   "outputs": [],
   "source": [
    "from sklearn import preprocessing\n",
    "from sklearn import svm"
   ]
  },
  {
   "cell_type": "code",
   "execution_count": 4,
   "metadata": {
    "collapsed": true
   },
   "outputs": [],
   "source": [
    "def trasfer_data():\n",
    "    le = preprocessing.LabelEncoder()\n",
    "    le.fit(data[\"Family\"])\n",
    "    data[\"Family\"]=le.transform(data[\"Family\"])\n",
    "    \n",
    "    le.fit(data[\"Genus\"])\n",
    "    data[\"Genus\"]=le.transform(data[\"Genus\"])\n",
    "    \n",
    "    le.fit(data[\"Species\"])\n",
    "    data[\"Species\"]=le.transform(data[\"Species\"])\n",
    "    \n",
    "    "
   ]
  },
  {
   "cell_type": "code",
   "execution_count": 5,
   "metadata": {
    "collapsed": true
   },
   "outputs": [],
   "source": [
    "trasfer_data()"
   ]
  },
  {
   "cell_type": "code",
   "execution_count": 6,
   "metadata": {
    "collapsed": true
   },
   "outputs": [],
   "source": [
    "linear_svc=svm.SVC(kernel='rbf')"
   ]
  },
  {
   "cell_type": "code",
   "execution_count": 7,
   "metadata": {
    "collapsed": true
   },
   "outputs": [],
   "source": [
    "family_data=data.drop([\"Genus\",\"Species\",\"RecordID\"],axis=1)\n",
    "genus_data=data.drop([\"Family\",\"Species\",\"RecordID\"],axis=1)\n",
    "species_data=data.drop([\"Family\",\"Genus\",\"RecordID\"],axis=1)"
   ]
  },
  {
   "cell_type": "code",
   "execution_count": 8,
   "metadata": {
    "collapsed": true
   },
   "outputs": [],
   "source": [
    "family_y=list(data[\"Family\"])\n",
    "family_x=data.drop([\"Family\",\"Genus\",\"Species\",\"RecordID\"],axis=1)\n",
    "\n",
    "genus_y=list(data[\"Genus\"])\n",
    "genus_x=data.drop([\"Family\",\"Genus\",\"Species\",\"RecordID\"],axis=1)\n",
    "\n",
    "species_y=list(data[\"Species\"])\n",
    "species_x=data.drop([\"Family\",\"Genus\",\"Species\",\"RecordID\"],axis=1)"
   ]
  },
  {
   "cell_type": "code",
   "execution_count": 9,
   "metadata": {
    "collapsed": true
   },
   "outputs": [],
   "source": [
    "from sklearn.metrics import accuracy_score"
   ]
  },
  {
   "cell_type": "markdown",
   "metadata": {},
   "source": [
    "Choose 70% of the data randomly as the training set."
   ]
  },
  {
   "cell_type": "code",
   "execution_count": 10,
   "metadata": {
    "collapsed": true
   },
   "outputs": [],
   "source": [
    "from sklearn.model_selection import train_test_split"
   ]
  },
  {
   "cell_type": "code",
   "execution_count": 11,
   "metadata": {
    "collapsed": true
   },
   "outputs": [],
   "source": [
    "family_x_train, family_x_test,family_y_train,family_y_test = train_test_split(family_x, family_y, test_size=0.3, random_state=42)\n",
    "genus_x_train, genus_x_test, genus_y_train, genus_y_test = train_test_split(genus_x, genus_y, test_size=0.3, random_state=42)\n",
    "species_x_train, species_x_test, species_y_train, species_y_test = train_test_split(species_x, species_y, test_size=0.3, random_state=42)"
   ]
  },
  {
   "cell_type": "markdown",
   "metadata": {},
   "source": [
    "# Raw SVM Gaussian Kernels"
   ]
  },
  {
   "cell_type": "code",
   "execution_count": 50,
   "metadata": {
    "collapsed": true
   },
   "outputs": [],
   "source": [
    "from sklearn.model_selection import GridSearchCV"
   ]
  },
  {
   "cell_type": "code",
   "execution_count": 51,
   "metadata": {
    "collapsed": true
   },
   "outputs": [],
   "source": [
    "gamma_range = np.logspace(-3, 1, 5)\n"
   ]
  },
  {
   "cell_type": "code",
   "execution_count": 52,
   "metadata": {},
   "outputs": [
    {
     "data": {
      "text/plain": [
       "GridSearchCV(cv=10, error_score='raise',\n",
       "       estimator=SVC(C=1.0, cache_size=200, class_weight=None, coef0=0.0,\n",
       "  decision_function_shape='ovr', degree=3, gamma='auto', kernel='rbf',\n",
       "  max_iter=-1, probability=False, random_state=None, shrinking=True,\n",
       "  tol=0.001, verbose=False),\n",
       "       fit_params=None, iid=True, n_jobs=1,\n",
       "       param_grid={'C': [1, 2, 3, 4], 'gamma': [0.001, 0.01, 0.1, 1.0, 10.0]},\n",
       "       pre_dispatch='2*n_jobs', refit=True, return_train_score='warn',\n",
       "       scoring=None, verbose=0)"
      ]
     },
     "execution_count": 52,
     "metadata": {},
     "output_type": "execute_result"
    }
   ],
   "source": [
    "linear_svc=svm.SVC(kernel='rbf') #there are two main parameters, C and degree\n",
    "parameters = { 'C':[1,2,3,4],'gamma':[x for x in gamma_range]}\n",
    "clf = GridSearchCV(linear_svc, parameters,cv=10)\n",
    "clf.fit(family_x_train,family_y_train)"
   ]
  },
  {
   "cell_type": "code",
   "execution_count": 53,
   "metadata": {
    "collapsed": true
   },
   "outputs": [],
   "source": [
    "res=clf.predict(family_x_test)"
   ]
  },
  {
   "cell_type": "code",
   "execution_count": 54,
   "metadata": {},
   "outputs": [
    {
     "data": {
      "text/plain": [
       "0.9884205650764243"
      ]
     },
     "execution_count": 54,
     "metadata": {},
     "output_type": "execute_result"
    }
   ],
   "source": [
    "accuracy_score(res,family_y_test)"
   ]
  },
  {
   "cell_type": "code",
   "execution_count": 55,
   "metadata": {},
   "outputs": [
    {
     "name": "stdout",
     "output_type": "stream",
     "text": [
      "0.9960285941223193\n"
     ]
    }
   ],
   "source": [
    "clf.fit(genus_x_train,genus_y_train)\n",
    "genus_res=clf.predict(genus_x_train)\n",
    "print(accuracy_score(genus_res,genus_y_train))"
   ]
  },
  {
   "cell_type": "code",
   "execution_count": 56,
   "metadata": {},
   "outputs": [
    {
     "name": "stdout",
     "output_type": "stream",
     "text": [
      "0.9978157267672756\n"
     ]
    }
   ],
   "source": [
    "clf.fit(species_x_train,species_y_train)\n",
    "species_res=clf.predict(species_x_train)\n",
    "print(accuracy_score(species_res,species_y_train))"
   ]
  },
  {
   "cell_type": "markdown",
   "metadata": {},
   "source": [
    "From the above result, we can find that if we use the Raw data without the Normalization, the accuracy score is around 99% percent,and then we will try to utilize the normalized result."
   ]
  },
  {
   "cell_type": "code",
   "execution_count": null,
   "metadata": {
    "collapsed": true
   },
   "outputs": [],
   "source": [
    "from sklearn.preprocessing import MinMaxScaler"
   ]
  },
  {
   "cell_type": "code",
   "execution_count": 57,
   "metadata": {
    "collapsed": true
   },
   "outputs": [],
   "source": [
    "min_max_scaler = preprocessing.MinMaxScaler()\n",
    "family_x_train_normalized=min_max_scaler.fit_transform(family_x_train)\n",
    "genus_x_train_normalized=min_max_scaler.fit_transform(genus_x_train)\n",
    "species_x_train_normalized=min_max_scaler.fit_transform(species_x_train)\n"
   ]
  },
  {
   "cell_type": "code",
   "execution_count": 58,
   "metadata": {},
   "outputs": [
    {
     "name": "stdout",
     "output_type": "stream",
     "text": [
      "1.0\n"
     ]
    }
   ],
   "source": [
    "clf.fit(family_x_train_normalized,family_y_train)\n",
    "family_res=clf.predict(family_x_train_normalized)\n",
    "print(accuracy_score(family_res,family_y_train))"
   ]
  },
  {
   "cell_type": "markdown",
   "metadata": {},
   "source": [
    "After normalization, the accuracy improved from 98.8% to 100% percent for family class"
   ]
  },
  {
   "cell_type": "code",
   "execution_count": 59,
   "metadata": {},
   "outputs": [
    {
     "name": "stdout",
     "output_type": "stream",
     "text": [
      "0.9944400317712471\n"
     ]
    }
   ],
   "source": [
    "clf.fit(genus_x_train_normalized,genus_y_train)\n",
    "genus_res=clf.predict(genus_x_train_normalized)\n",
    "print(accuracy_score(genus_res,genus_y_train))"
   ]
  },
  {
   "cell_type": "markdown",
   "metadata": {},
   "source": [
    "After normalization , the accuracy of genus class decreased  from 99.6% to 99.4% percent. "
   ]
  },
  {
   "cell_type": "code",
   "execution_count": 60,
   "metadata": {},
   "outputs": [
    {
     "name": "stdout",
     "output_type": "stream",
     "text": [
      "0.9950357426528992\n"
     ]
    }
   ],
   "source": [
    "clf.fit(species_x_train_normalized,species_y_train)\n",
    "species_res=clf.predict(species_x_train_normalized)\n",
    "print(accuracy_score(species_res,species_y_train))"
   ]
  },
  {
   "cell_type": "markdown",
   "metadata": {},
   "source": [
    "Conclusion: From the above experiments, we can find that the normalized result will improve the results from 99.7% percent to 99.5% percent "
   ]
  },
  {
   "cell_type": "markdown",
   "metadata": {},
   "source": [
    "# iii. Repeat 1(b)ii with L1-penalized SVMs. Remember to normalize the at- tributes."
   ]
  },
  {
   "cell_type": "code",
   "execution_count": 80,
   "metadata": {
    "collapsed": true
   },
   "outputs": [],
   "source": [
    "svm_model=svm.LinearSVC(penalty=\"l1\")"
   ]
  },
  {
   "cell_type": "code",
   "execution_count": 88,
   "metadata": {
    "collapsed": true
   },
   "outputs": [],
   "source": [
    "# parameters = { 'C':[1,2,3,4,5,6],'tol':[0.0001,0.001,0.01]}\n",
    "#then we have to utilize the for loop to get it\n",
    "def L1_SVM_Model(x,y):\n",
    "    best_c=None\n",
    "    best_tol=None\n",
    "    res=0\n",
    "    for i in range(1,11):\n",
    "        C=i\n",
    "        for j in [0.0001,0.001, 0.01,0.1]:\n",
    "            tol=j\n",
    "            svm_model=svm.LinearSVC(penalty=\"l1\",C=C,tol=tol,dual=False)\n",
    "            scores = cross_val_score(svm_model,x,y,cv=10)\n",
    "            avg_scores=np.mean(scores)\n",
    "            print(\"When C = \"+str(C)+\" And tol= \"+str(tol)+\" The result is: \"+str(avg_scores))\n",
    "            \n",
    "            if avg_scores>res:\n",
    "                res=avg_scores\n",
    "                best_c=C\n",
    "                best_tol=tol\n",
    "    return res,best_c,best_tol\n",
    "           \n",
    "            "
   ]
  },
  {
   "cell_type": "code",
   "execution_count": 89,
   "metadata": {},
   "outputs": [
    {
     "name": "stdout",
     "output_type": "stream",
     "text": [
      "When C = 1 And tol= 0.0001 The result is: 0.936466680372642\n",
      "When C = 1 And tol= 0.001 The result is: 0.9378555739481682\n",
      "When C = 1 And tol= 0.01 The result is: 0.9354730390459987\n",
      "When C = 1 And tol= 0.1 The result is: 0.928521475627182\n",
      "When C = 2 And tol= 0.0001 The result is: 0.9368627199766024\n",
      "When C = 2 And tol= 0.001 The result is: 0.93706152713366\n",
      "When C = 2 And tol= 0.01 The result is: 0.9356710588479789\n",
      "When C = 2 And tol= 0.1 The result is: 0.9285242259207338\n",
      "When C = 3 And tol= 0.0001 The result is: 0.93706152713366\n",
      "When C = 3 And tol= 0.001 The result is: 0.93706152713366\n",
      "When C = 3 And tol= 0.01 The result is: 0.9366650946332671\n",
      "When C = 3 And tol= 0.1 The result is: 0.9277266414575962\n",
      "When C = 4 And tol= 0.0001 The result is: 0.9374591414477752\n",
      "When C = 4 And tol= 0.001 The result is: 0.93706152713366\n",
      "When C = 4 And tol= 0.01 The result is: 0.9362682676742292\n",
      "When C = 4 And tol= 0.1 The result is: 0.9269329859865703\n",
      "When C = 5 And tol= 0.0001 The result is: 0.93706152713366\n",
      "When C = 5 And tol= 0.001 The result is: 0.9374591414477752\n",
      "When C = 5 And tol= 0.01 The result is: 0.9366643072781896\n",
      "When C = 5 And tol= 0.1 The result is: 0.9279266273132134\n",
      "When C = 6 And tol= 0.0001 The result is: 0.9372603342907176\n",
      "When C = 6 And tol= 0.001 The result is: 0.9372603342907176\n",
      "When C = 6 And tol= 0.01 The result is: 0.9360686731620941\n",
      "When C = 6 And tol= 0.1 The result is: 0.9277286043960705\n",
      "When C = 7 And tol= 0.0001 The result is: 0.9374591414477752\n",
      "When C = 7 And tol= 0.001 The result is: 0.9372603342907176\n",
      "When C = 7 And tol= 0.01 The result is: 0.9364670748312868\n",
      "When C = 7 And tol= 0.1 The result is: 0.9273325648013723\n",
      "When C = 8 And tol= 0.0001 The result is: 0.9372611216457951\n",
      "When C = 8 And tol= 0.001 The result is: 0.9376579486048329\n",
      "When C = 8 And tol= 0.01 The result is: 0.9364662874762095\n",
      "When C = 8 And tol= 0.1 The result is: 0.9277266399046461\n",
      "When C = 9 And tol= 0.0001 The result is: 0.9374591414477752\n",
      "When C = 9 And tol= 0.001 The result is: 0.9374591414477752\n",
      "When C = 9 And tol= 0.01 The result is: 0.9362682676742292\n",
      "When C = 9 And tol= 0.1 The result is: 0.9275286185404532\n",
      "When C = 10 And tol= 0.0001 The result is: 0.9372611216457951\n",
      "When C = 10 And tol= 0.001 The result is: 0.9372611216457951\n",
      "When C = 10 And tol= 0.01 The result is: 0.9364662874762095\n",
      "When C = 10 And tol= 0.1 The result is: 0.9273306003006855\n",
      "(0.9378555739481682, 1, 0.001)\n",
      "When C = 1 And tol= 0.0001 The result is: 0.939441964582055\n",
      "When C = 1 And tol= 0.001 The result is: 0.9390455227360268\n",
      "When C = 1 And tol= 0.01 The result is: 0.9384498854674241\n",
      "When C = 1 And tol= 0.1 The result is: 0.9317128733315044\n",
      "When C = 2 And tol= 0.0001 The result is: 0.942616990354242\n",
      "When C = 2 And tol= 0.001 The result is: 0.9420201681288202\n",
      "When C = 2 And tol= 0.01 The result is: 0.9412217837383643\n",
      "When C = 2 And tol= 0.1 The result is: 0.9328974558803198\n",
      "When C = 3 And tol= 0.0001 The result is: 0.9447995612444234\n",
      "When C = 3 And tol= 0.001 The result is: 0.9444023335404728\n",
      "When C = 3 And tol= 0.01 The result is: 0.9426177761283606\n",
      "When C = 3 And tol= 0.1 The result is: 0.9344910564940039\n",
      "When C = 4 And tol= 0.0001 The result is: 0.9447987707555854\n",
      "When C = 4 And tol= 0.001 The result is: 0.9451971771300874\n",
      "When C = 4 And tol= 0.01 The result is: 0.9432106661443276\n",
      "When C = 4 And tol= 0.1 The result is: 0.933696241034435\n",
      "When C = 5 And tol= 0.0001 The result is: 0.9455932229459221\n",
      "When C = 5 And tol= 0.001 The result is: 0.9449971865877588\n",
      "When C = 5 And tol= 0.01 The result is: 0.9436098552429915\n",
      "When C = 5 And tol= 0.1 The result is: 0.9360744555641087\n",
      "When C = 6 And tol= 0.0001 The result is: 0.9459924104823736\n",
      "When C = 6 And tol= 0.001 The result is: 0.9461900373879214\n",
      "When C = 6 And tol= 0.01 The result is: 0.9449948244668793\n",
      "When C = 6 And tol= 0.1 The result is: 0.9350914258252814\n",
      "When C = 7 And tol= 0.0001 The result is: 0.9463896381863245\n",
      "When C = 7 And tol= 0.001 The result is: 0.9467856730755653\n",
      "When C = 7 And tol= 0.01 The result is: 0.9445995800664768\n",
      "When C = 7 And tol= 0.1 The result is: 0.9372688764153537\n",
      "When C = 8 And tol= 0.0001 The result is: 0.9471844770612193\n",
      "When C = 8 And tol= 0.001 The result is: 0.9467880445608264\n",
      "When C = 8 And tol= 0.01 The result is: 0.9453932449017362\n",
      "When C = 8 And tol= 0.1 The result is: 0.934283617844524\n",
      "When C = 9 And tol= 0.0001 The result is: 0.9457955819141448\n",
      "When C = 9 And tol= 0.001 The result is: 0.9465896318624137\n",
      "When C = 9 And tol= 0.01 The result is: 0.9451932512256469\n",
      "When C = 9 And tol= 0.1 The result is: 0.934688695897694\n",
      "When C = 10 And tol= 0.0001 The result is: 0.9459939868291347\n",
      "When C = 10 And tol= 0.001 The result is: 0.946986854851645\n",
      "When C = 10 And tol= 0.01 The result is: 0.9453948258981593\n",
      "When C = 10 And tol= 0.1 The result is: 0.9352855087681448\n",
      "(0.9471844770612193, 8, 0.0001)\n",
      "When C = 1 And tol= 0.0001 The result is: 0.9501431651468467\n",
      "When C = 1 And tol= 0.001 The result is: 0.9503419551555095\n",
      "When C = 1 And tol= 0.01 The result is: 0.9483542340860097\n",
      "When C = 1 And tol= 0.1 The result is: 0.9404285464331421\n",
      "When C = 2 And tol= 0.0001 The result is: 0.9533284958623487\n",
      "When C = 2 And tol= 0.001 The result is: 0.9537225708544715\n",
      "When C = 2 And tol= 0.01 The result is: 0.9509388024529437\n",
      "When C = 2 And tol= 0.1 The result is: 0.9443906170222032\n",
      "When C = 3 And tol= 0.0001 The result is: 0.9547209882113634\n",
      "When C = 3 And tol= 0.001 The result is: 0.9545158334101689\n",
      "When C = 3 And tol= 0.01 The result is: 0.9527249642965824\n",
      "When C = 3 And tol= 0.1 The result is: 0.94478905008569\n",
      "When C = 4 And tol= 0.0001 The result is: 0.9567122611676098\n",
      "When C = 4 And tol= 0.001 The result is: 0.9561138469069848\n",
      "When C = 4 And tol= 0.01 The result is: 0.9537229574550018\n",
      "When C = 4 And tol= 0.1 The result is: 0.9463779420990039\n",
      "When C = 5 And tol= 0.0001 The result is: 0.956112284602273\n",
      "When C = 5 And tol= 0.001 The result is: 0.9567055674963665\n",
      "When C = 5 And tol= 0.01 The result is: 0.9533249487011378\n",
      "When C = 5 And tol= 0.1 The result is: 0.944993381385299\n",
      "When C = 6 And tol= 0.0001 The result is: 0.9565095044577431\n",
      "When C = 6 And tol= 0.001 The result is: 0.9569075476943864\n",
      "When C = 6 And tol= 0.01 The result is: 0.9527257579379279\n",
      "When C = 6 And tol= 0.1 The result is: 0.9471727824437071\n",
      "When C = 7 And tol= 0.0001 The result is: 0.9561099286373193\n",
      "When C = 7 And tol= 0.001 The result is: 0.956512284602273\n",
      "When C = 7 And tol= 0.01 The result is: 0.9539182502869427\n",
      "When C = 7 And tol= 0.1 The result is: 0.9461854245574903\n",
      "When C = 8 And tol= 0.0001 The result is: 0.9565122830400604\n",
      "When C = 8 And tol= 0.001 The result is: 0.9569055611912024\n",
      "When C = 8 And tol= 0.01 The result is: 0.9543178510853458\n",
      "When C = 8 And tol= 0.1 The result is: 0.9453834882344185\n",
      "When C = 9 And tol= 0.0001 The result is: 0.9569087171026658\n",
      "When C = 9 And tol= 0.001 The result is: 0.9567099286373193\n",
      "When C = 9 And tol= 0.01 The result is: 0.9537230027713776\n",
      "When C = 9 And tol= 0.1 The result is: 0.9463771577290423\n",
      "When C = 10 And tol= 0.0001 The result is: 0.9569095357408866\n",
      "When C = 10 And tol= 0.001 The result is: 0.9573071484927898\n",
      "When C = 10 And tol= 0.01 The result is: 0.9543186510318558\n",
      "When C = 10 And tol= 0.1 The result is: 0.9477680456562334\n",
      "(0.9573071484927898, 10, 0.001)\n"
     ]
    }
   ],
   "source": [
    "print(L1_SVM_Model(family_x_train_normalized,family_y_train))\n",
    "print(L1_SVM_Model(genus_x_train_normalized,genus_y_train))\n",
    "print(L1_SVM_Model(species_x_train_normalized,species_y_train))"
   ]
  },
  {
   "cell_type": "markdown",
   "metadata": {},
   "source": [
    "So the result above for family class, the best classification rate is 93.7%. For Genus class, the classification rate is 94.7%, and for Species, the rate is 95.7%. "
   ]
  },
  {
   "cell_type": "markdown",
   "metadata": {},
   "source": [
    "# Repeat 1(b)iii by using SMOTE or any other method you know to remedy class imbalance. Report your conclusions about the classifiers you trained."
   ]
  },
  {
   "cell_type": "code",
   "execution_count": 11,
   "metadata": {
    "collapsed": true
   },
   "outputs": [],
   "source": [
    "from imblearn.over_sampling import SMOTE"
   ]
  },
  {
   "cell_type": "code",
   "execution_count": 26,
   "metadata": {},
   "outputs": [
    {
     "name": "stdout",
     "output_type": "stream",
     "text": [
      "{3: 0.6143154968728284, 1: 0.07533009034051424, 2: 0.30090340514246006, 0: 0.00945100764419736}\n"
     ]
    }
   ],
   "source": [
    "def getPerecentInList(alist):\n",
    "    adict={}\n",
    "    for number in alist:\n",
    "        if number not in adict:\n",
    "            adict[number]=1\n",
    "        else:\n",
    "            adict[number]+=1\n",
    "    \n",
    "    for key in adict:\n",
    "        adict[key]=(adict[key])/len(alist)\n",
    "        \n",
    "    return adict\n",
    "\n",
    "print(getPerecentInList(family_y))\n"
   ]
  },
  {
   "cell_type": "code",
   "execution_count": 37,
   "metadata": {
    "collapsed": true
   },
   "outputs": [],
   "source": [
    "#from the smote algorithm\n",
    "#family, genus,species\n",
    "#smote algroithm will increase the imbalance data by 人为的创造新数据\n",
    "sm = SMOTE(random_state=12)\n",
    "\n",
    "family_train_x_sm,family_train_y_sm=sm.fit_sample(family_x_train,family_y_train)\n",
    "genus_train_x_sm,genus_train_y_sm=sm.fit_sample(genus_x_train,genus_y_train)\n",
    "species_train_x_sm,species_train_y_sm=sm.fit_sample(species_x_train,species_y_train)"
   ]
  },
  {
   "cell_type": "code",
   "execution_count": 36,
   "metadata": {},
   "outputs": [
    {
     "name": "stdout",
     "output_type": "stream",
     "text": [
      "Accuracy Score is: 0.9277443260768874\n"
     ]
    }
   ],
   "source": [
    "#baseline is 92%\n",
    "\n",
    "svm_model=svm.LinearSVC()\n",
    "svm_model.fit(family_x_train,family_y_train)\n",
    "family_test_pre_y=svm_model.predict(family_x_test)\n",
    "print(\"Accuracy Score is: \"+str(accuracy_score(family_test_pre_y,family_y_test)))"
   ]
  },
  {
   "cell_type": "code",
   "execution_count": 38,
   "metadata": {},
   "outputs": [
    {
     "name": "stdout",
     "output_type": "stream",
     "text": [
      "Accuracy Score is: 0.8985641500694767\n"
     ]
    }
   ],
   "source": [
    "svm_model=svm.LinearSVC()\n",
    "svm_model.fit(family_train_x_sm,family_train_y_sm)\n",
    "family_test_pre_y=svm_model.predict(family_x_test)\n",
    "print(\"Accuracy Score is: \"+str(accuracy_score(family_test_pre_y,family_y_test)))"
   ]
  },
  {
   "cell_type": "code",
   "execution_count": 39,
   "metadata": {},
   "outputs": [
    {
     "name": "stdout",
     "output_type": "stream",
     "text": [
      "0.9018063918480778\n"
     ]
    }
   ],
   "source": [
    "svm_model=svm.LinearSVC()\n",
    "svm_model.fit(genus_train_x_sm,genus_train_y_sm)\n",
    "score=svm_model.score(genus_x_test,genus_y_test)\n",
    "print(score)"
   ]
  },
  {
   "cell_type": "code",
   "execution_count": 40,
   "metadata": {},
   "outputs": [
    {
     "name": "stdout",
     "output_type": "stream",
     "text": [
      "0.9620194534506716\n"
     ]
    }
   ],
   "source": [
    "svm_model=svm.LinearSVC()\n",
    "svm_model.fit(species_train_x_sm,species_train_y_sm)\n",
    "score=svm_model.score(species_x_test,species_y_test)\n",
    "print(score)"
   ]
  },
  {
   "cell_type": "markdown",
   "metadata": {},
   "source": [
    "From the above experiments, for some classification situation, SMOTE algoritgm improves the accuracy. But some classes like family, it did not behave very well. "
   ]
  },
  {
   "cell_type": "markdown",
   "metadata": {},
   "source": [
    "# v. Extra Practice: Study the Classifier Chain method and apply it to the above problem."
   ]
  },
  {
   "cell_type": "code",
   "execution_count": 32,
   "metadata": {
    "collapsed": true
   },
   "outputs": [],
   "source": [
    "from sklearn.multioutput import ClassifierChain\n",
    "from sklearn.model_selection import train_test_split\n",
    "from sklearn.multiclass import OneVsRestClassifier\n",
    "from sklearn.metrics import jaccard_similarity_score\n",
    "from sklearn.linear_model import LogisticRegression\n",
    "from sklearn.datasets import fetch_mldata"
   ]
  },
  {
   "cell_type": "code",
   "execution_count": 33,
   "metadata": {},
   "outputs": [
    {
     "data": {
      "text/plain": [
       "OneVsRestClassifier(estimator=LogisticRegression(C=1.0, class_weight=None, dual=False, fit_intercept=True,\n",
       "          intercept_scaling=1, max_iter=100, multi_class='ovr', n_jobs=1,\n",
       "          penalty='l2', random_state=None, solver='liblinear', tol=0.0001,\n",
       "          verbose=0, warm_start=False),\n",
       "          n_jobs=1)"
      ]
     },
     "execution_count": 33,
     "metadata": {},
     "output_type": "execute_result"
    }
   ],
   "source": [
    "#for the family situation \n",
    "ovr = OneVsRestClassifier(LogisticRegression())\n",
    "ovr.fit(family_x_train,family_y_train)"
   ]
  },
  {
   "cell_type": "code",
   "execution_count": 34,
   "metadata": {
    "collapsed": true
   },
   "outputs": [],
   "source": [
    "Y_pred_ovr = ovr.predict(family_x_test)\n",
    "ovr_jaccard_score = jaccard_similarity_score(family_y_test, Y_pred_ovr)"
   ]
  },
  {
   "cell_type": "code",
   "execution_count": 35,
   "metadata": {
    "collapsed": true
   },
   "outputs": [],
   "source": [
    "chains = [ClassifierChain(LogisticRegression(), order='random', random_state=i,cv=5)\n",
    "          for i in range(10)]"
   ]
  },
  {
   "cell_type": "code",
   "execution_count": 38,
   "metadata": {
    "collapsed": true
   },
   "outputs": [],
   "source": [
    "Y = label_binarize(Y, classes=[0, 1, 2,3])\n"
   ]
  },
  {
   "cell_type": "code",
   "execution_count": 43,
   "metadata": {
    "collapsed": true
   },
   "outputs": [],
   "source": [
    "X_train, X_test, Y_train, Y_test = train_test_split(X, Y, test_size=.3)"
   ]
  },
  {
   "cell_type": "code",
   "execution_count": 44,
   "metadata": {},
   "outputs": [],
   "source": [
    "chains = [ClassifierChain(LogisticRegression(), order='random', random_state=i)\n",
    "          for i in range(10)]\n",
    "for chain in chains:\n",
    "    chain.fit(X_train, Y_train)\n",
    "\n",
    "Y_pred_chains = np.array([chain.predict(X_test) for chain in\n",
    "                          chains])\n",
    "chain_jaccard_scores = [jaccard_similarity_score(Y_test, Y_pred_chain >= .5)\n",
    "                        for Y_pred_chain in Y_pred_chains]\n",
    "\n",
    "Y_pred_ensemble = Y_pred_chains.mean(axis=0)\n",
    "ensemble_jaccard_score = jaccard_similarity_score(Y_test,\n",
    "                                                  Y_pred_ensemble >= .5)\n",
    "\n",
    "model_scores = [ovr_jaccard_score] + chain_jaccard_scores\n",
    "model_scores.append(ensemble_jaccard_score)"
   ]
  },
  {
   "cell_type": "code",
   "execution_count": 45,
   "metadata": {},
   "outputs": [
    {
     "data": {
      "image/png": "[encoded data removed]",
      "text/plain": [
       "<matplotlib.figure.Figure at 0x112b3bc18>"
      ]
     },
     "metadata": {},
     "output_type": "display_data"
    }
   ],
   "source": [
    "model_names = ('Independent',\n",
    "               'Chain 1',\n",
    "               'Chain 2',\n",
    "               'Chain 3',\n",
    "               'Chain 4',\n",
    "               'Chain 5',\n",
    "               'Chain 6',\n",
    "               'Chain 7',\n",
    "               'Chain 8',\n",
    "               'Chain 9',\n",
    "               'Chain 10',\n",
    "               'Ensemble')\n",
    "\n",
    "x_pos = np.arange(len(model_names))\n",
    "\n",
    "# Plot the Jaccard similarity scores for the independent model, each of the\n",
    "# chains, and the ensemble (note that the vertical axis on this plot does\n",
    "# not begin at 0).\n",
    "\n",
    "fig, ax = plt.subplots(figsize=(7, 4))\n",
    "ax.grid(True)\n",
    "ax.set_title('Classifier Chain Ensemble Performance Comparison')\n",
    "ax.set_xticks(x_pos)\n",
    "ax.set_xticklabels(model_names, rotation='vertical')\n",
    "ax.set_ylabel('Jaccard Similarity Score')\n",
    "ax.set_ylim([min(model_scores) * .9, max(model_scores) * 1.1])\n",
    "colors = ['r'] + ['b'] * len(chain_jaccard_scores) + ['g']\n",
    "ax.bar(x_pos, model_scores, alpha=0.5, color=colors)\n",
    "plt.tight_layout()\n",
    "plt.show()"
   ]
  },
  {
   "cell_type": "markdown",
   "metadata": {},
   "source": [
    "From the above result we can find that the ensemble model has almost 92.5% accuracy"
   ]
  },
  {
   "cell_type": "markdown",
   "metadata": {},
   "source": [
    "# vi. Extra Practice: Research how confusion matrices, precision, recall, ROC, and AUC are defined for multi-label classification and compute them for the classifiers you trained in above."
   ]
  },
  {
   "cell_type": "markdown",
   "metadata": {},
   "source": [
    "Precision-recall curves are typically used in binary classification to study the output of a classifier. In order to extend the precision-recall curve and average precision to multi-class or multi-label classification, it is necessary to binarize the output. So we will calculate the average precision and recall, result"
   ]
  },
  {
   "cell_type": "markdown",
   "metadata": {},
   "source": [
    "# For family"
   ]
  },
  {
   "cell_type": "code",
   "execution_count": 25,
   "metadata": {
    "collapsed": true
   },
   "outputs": [],
   "source": [
    "X=np.array(family_data.drop(\"Family\",axis=1))\n",
    "Y=family_data[\"Family\"]"
   ]
  },
  {
   "cell_type": "code",
   "execution_count": 26,
   "metadata": {
    "collapsed": true
   },
   "outputs": [],
   "source": [
    "from sklearn.preprocessing import label_binarize\n",
    "Y = label_binarize(Y, classes=[0, 1, 2,3])\n",
    "n_classes = Y.shape[1]"
   ]
  },
  {
   "cell_type": "code",
   "execution_count": 27,
   "metadata": {},
   "outputs": [
    {
     "data": {
      "text/plain": [
       "array([[0, 0, 0, 1],\n",
       "       [0, 0, 0, 1],\n",
       "       [0, 0, 0, 1],\n",
       "       ...,\n",
       "       [0, 0, 1, 0],\n",
       "       [0, 0, 1, 0],\n",
       "       [0, 0, 1, 0]])"
      ]
     },
     "execution_count": 27,
     "metadata": {},
     "output_type": "execute_result"
    }
   ],
   "source": [
    "Y"
   ]
  },
  {
   "cell_type": "code",
   "execution_count": 28,
   "metadata": {
    "collapsed": true
   },
   "outputs": [],
   "source": [
    "X_train, X_test, Y_train, Y_test = train_test_split(X, Y, test_size=.3)\n",
    "                                                    \n",
    "\n",
    "# We use OneVsRestClassifier for multi-label prediction\n",
    "from sklearn.multiclass import OneVsRestClassifier\n",
    "\n",
    "# Run classifier\n",
    "classifier = OneVsRestClassifier(svm.LinearSVC(random_state=42))\n",
    "classifier.fit(X_train, Y_train)\n",
    "y_score = classifier.decision_function(X_test)"
   ]
  },
  {
   "cell_type": "code",
   "execution_count": 29,
   "metadata": {},
   "outputs": [
    {
     "name": "stdout",
     "output_type": "stream",
     "text": [
      "Average precision score, micro-averaged over all classes: 0.96\n"
     ]
    }
   ],
   "source": [
    "from sklearn.metrics import precision_recall_curve\n",
    "from sklearn.metrics import average_precision_score\n",
    "\n",
    "# For each class\n",
    "precision = dict()\n",
    "recall = dict()\n",
    "average_precision = dict()\n",
    "for i in range(n_classes):\n",
    "    precision[i], recall[i], _ = precision_recall_curve(Y_test[:, i],\n",
    "                                                        y_score[:, i])\n",
    "    average_precision[i] = average_precision_score(Y_test[:, i], y_score[:, i])\n",
    "\n",
    "# A \"micro-average\": quantifying score on all classes jointly\n",
    "precision[\"micro\"], recall[\"micro\"], _ = precision_recall_curve(Y_test.ravel(),\n",
    "    y_score.ravel())\n",
    "average_precision[\"micro\"] = average_precision_score(Y_test, y_score,\n",
    "                                                     average=\"micro\")\n",
    "print('Average precision score, micro-averaged over all classes: {0:0.2f}'\n",
    "      .format(average_precision[\"micro\"]))"
   ]
  },
  {
   "cell_type": "code",
   "execution_count": 30,
   "metadata": {
    "collapsed": true
   },
   "outputs": [],
   "source": [
    "#then make the confusion matrix, it is same as the binary situation\n",
    "X=family_data.drop(\"Family\",axis=1)\n",
    "Y=family_data[\"Family\"]\n",
    "svm_linear=svm.LinearSVC(random_state=41)\n",
    "X_train, X_test, Y_train, Y_test = train_test_split(X, Y, test_size=.3)\n",
    "svm_linear.fit(X_train,Y_train)\n",
    "Y_test_pre=svm_linear.predict(X_test)"
   ]
  },
  {
   "cell_type": "code",
   "execution_count": 31,
   "metadata": {},
   "outputs": [
    {
     "name": "stdout",
     "output_type": "stream",
     "text": [
      "[[   0    0    0    0]\n",
      " [   0  154   14   12]\n",
      " [  13   12  597   23]\n",
      " [   0    3   57 1274]]\n"
     ]
    }
   ],
   "source": [
    "from sklearn.metrics import confusion_matrix\n",
    "print(confusion_matrix(Y_test_pre,Y_test))"
   ]
  },
  {
   "cell_type": "markdown",
   "metadata": {},
   "source": [
    "# Make ROC and AUC curve "
   ]
  },
  {
   "cell_type": "code",
   "execution_count": 18,
   "metadata": {
    "collapsed": true
   },
   "outputs": [],
   "source": [
    "#then make the ROC and AUC Curve for the family class.\n",
    "import numpy as np\n",
    "import matplotlib.pyplot as plt\n",
    "from itertools import cycle\n",
    "\n",
    "from sklearn import svm, datasets\n",
    "from sklearn.metrics import roc_curve, auc\n",
    "from sklearn.model_selection import train_test_split\n",
    "from sklearn.preprocessing import label_binarize\n",
    "from sklearn.multiclass import OneVsRestClassifier\n",
    "from scipy import interp\n",
    "\n",
    "# Import some data to play with\n",
    "X = family_data.drop(\"Family\",axis=1)\n",
    "y = list(family_data[\"Family\"])\n",
    "\n",
    "# Binarize the output\n",
    "y = label_binarize(y, classes=[0,1,2,3])\n",
    "n_classes = y.shape[1]\n",
    "\n"
   ]
  },
  {
   "cell_type": "code",
   "execution_count": 19,
   "metadata": {
    "collapsed": true
   },
   "outputs": [],
   "source": [
    "# Add noisy features to make the problem harder\n",
    "random_state = np.random.RandomState(0)\n",
    "n_samples, n_features = X.shape\n",
    "X = np.c_[X, random_state.randn(n_samples, 2 * n_features)]\n",
    "\n",
    "\n",
    "\n"
   ]
  },
  {
   "cell_type": "code",
   "execution_count": 20,
   "metadata": {
    "collapsed": true
   },
   "outputs": [],
   "source": [
    "# shuffle and split training and test sets\n",
    "X_train, X_test, y_train, y_test = train_test_split(X, y, test_size=.4,\n",
    "                                                    random_state=0)\n",
    "\n",
    "# Learn to predict each class against the other\n",
    "classifier = OneVsRestClassifier(svm.SVC(kernel='linear', probability=True,\n",
    "                                 random_state=random_state))\n",
    "y_score = classifier.fit(X_train, y_train).decision_function(X_test)"
   ]
  },
  {
   "cell_type": "code",
   "execution_count": 21,
   "metadata": {
    "collapsed": true
   },
   "outputs": [],
   "source": [
    "# Compute ROC curve and ROC area for each class\n",
    "fpr = dict()\n",
    "tpr = dict()\n",
    "roc_auc = dict()\n",
    "for i in range(n_classes):\n",
    "    fpr[i], tpr[i], _ = roc_curve(y_test[:, i], y_score[:, i])\n",
    "    roc_auc[i] = auc(fpr[i], tpr[i])\n",
    "\n",
    "# Compute micro-average ROC curve and ROC area\n",
    "fpr[\"micro\"], tpr[\"micro\"], _ = roc_curve(y_test.ravel(), y_score.ravel())\n",
    "roc_auc[\"micro\"] = auc(fpr[\"micro\"], tpr[\"micro\"])"
   ]
  },
  {
   "cell_type": "code",
   "execution_count": 22,
   "metadata": {
    "collapsed": true
   },
   "outputs": [],
   "source": [
    "y_score = classifier.fit(X_train, y_train).decision_function(X_test)\n",
    "\n",
    "\n",
    "# Compute ROC curve and ROC area for each class\n",
    "fpr = dict()\n",
    "tpr = dict()\n",
    "roc_auc = dict()\n",
    "for i in range(n_classes):\n",
    "    fpr[i], tpr[i], _ = roc_curve(y_test[:, i], y_score[:, i])\n",
    "    roc_auc[i] = auc(fpr[i], tpr[i])\n",
    "\n",
    "# Compute micro-average ROC curve and ROC area\n",
    "fpr[\"micro\"], tpr[\"micro\"], _ = roc_curve(y_test.ravel(), y_score.ravel())\n",
    "roc_auc[\"micro\"] = auc(fpr[\"micro\"], tpr[\"micro\"])"
   ]
  },
  {
   "cell_type": "code",
   "execution_count": 23,
   "metadata": {},
   "outputs": [
    {
     "data": {
      "image/png": "[encoded data removed]",
      "text/plain": [
       "<matplotlib.figure.Figure at 0x10e87a828>"
      ]
     },
     "metadata": {},
     "output_type": "display_data"
    }
   ],
   "source": [
    "all_fpr = np.unique(np.concatenate([fpr[i] for i in range(n_classes)]))\n",
    "\n",
    "# Then interpolate all ROC curves at this points\n",
    "mean_tpr = np.zeros_like(all_fpr)\n",
    "for i in range(n_classes):\n",
    "    mean_tpr += interp(all_fpr, fpr[i], tpr[i])\n",
    "\n",
    "# Finally average it and compute AUC\n",
    "mean_tpr /= n_classes\n",
    "\n",
    "fpr[\"macro\"] = all_fpr\n",
    "tpr[\"macro\"] = mean_tpr\n",
    "roc_auc[\"macro\"] = auc(fpr[\"macro\"], tpr[\"macro\"])\n",
    "\n",
    "# Plot all ROC curves\n",
    "plt.figure()\n",
    "plt.plot(fpr[\"micro\"], tpr[\"micro\"],\n",
    "         label='micro-average ROC curve (area = {0:0.2f})'\n",
    "               ''.format(roc_auc[\"micro\"]),\n",
    "         color='deeppink', linestyle=':', linewidth=4)\n",
    "\n",
    "plt.plot(fpr[\"macro\"], tpr[\"macro\"],\n",
    "         label='macro-average ROC curve (area = {0:0.2f})'\n",
    "               ''.format(roc_auc[\"macro\"]),\n",
    "         color='navy', linestyle=':', linewidth=4)\n",
    "\n",
    "colors = cycle(['aqua', 'darkorange', 'cornflowerblue',\"blue\",\"yellow\",\"green\"])\n",
    "for i, color in zip(range(n_classes), colors):\n",
    "    plt.plot(fpr[i], tpr[i], color=color, #lw=lw,\n",
    "             label='ROC curve of class {0} (area = {1:0.2f})'\n",
    "             ''.format(i, roc_auc[i]))\n",
    "\n",
    "plt.plot([0, 1], [0, 1], 'k--')\n",
    "plt.xlim([0.0, 1.0])\n",
    "plt.ylim([0.0, 1.05])\n",
    "plt.xlabel('False Positive Rate')\n",
    "plt.ylabel('True Positive Rate')\n",
    "plt.title('Some extension of Receiver operating characteristic to multi-class')\n",
    "plt.legend(loc=\"lower right\")\n",
    "plt.show()"
   ]
  },
  {
   "cell_type": "code",
   "execution_count": 12,
   "metadata": {
    "collapsed": true
   },
   "outputs": [],
   "source": []
  },
  {
   "cell_type": "code",
   "execution_count": null,
   "metadata": {
    "collapsed": true
   },
   "outputs": [],
   "source": []
  }
 ],
 "metadata": {
  "kernelspec": {
   "display_name": "Python 3",
   "language": "python",
   "name": "python3"
  },
  "language_info": {
   "codemirror_mode": {
    "name": "ipython",
    "version": 3
   },
   "file_extension": ".py",
   "mimetype": "text/x-python",
   "name": "python",
   "nbconvert_exporter": "python",
   "pygments_lexer": "ipython3",
   "version": "3.6.2"
  }
 },
 "nbformat": 4,
 "nbformat_minor": 2
}
